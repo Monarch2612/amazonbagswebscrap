{
 "cells": [
  {
   "cell_type": "code",
   "execution_count": 44,
   "id": "bc298aca",
   "metadata": {},
   "outputs": [],
   "source": [
    "#import library\n",
    "from bs4 import BeautifulSoup\n",
    "import requests \n",
    "import time\n",
    "import datetime\n",
    "import pandas as pd\n",
    "\n",
    "import smtplib"
   ]
  },
  {
   "cell_type": "code",
   "execution_count": 45,
   "id": "0ffaa450",
   "metadata": {},
   "outputs": [],
   "source": [
    "# Connecting to URL\n",
    "\n",
    "URL = 'https://www.amazon.in/s?k=bags&crid=2M096C61O4MLT&qid=1653308124&sprefix=ba%2Caps%2C283&ref=sr_pg_1'\n",
    "\n",
    "headers = {\"User-Agent\": \"Mozilla/5.0 (Windows NT 10.0; Win64; x64) AppleWebKit/537.36 (KHTML, like Gecko) Chrome/113.0.0.0 Safari/537.36\"}\n",
    "\n",
    "page = requests.get(URL, headers=headers).text\n",
    "\n",
    "soup = BeautifulSoup(page, \"html.parser\")\n"
   ]
  },
  {
   "cell_type": "code",
   "execution_count": 46,
   "id": "12d7c974",
   "metadata": {},
   "outputs": [],
   "source": [
    "bags=soup.find_all('div',class_='sg-col-inner')"
   ]
  },
  {
   "cell_type": "code",
   "execution_count": 67,
   "id": "005000c8",
   "metadata": {
    "scrolled": true
   },
   "outputs": [
    {
     "data": {
      "text/plain": [
       "'/sspa/click?ie=UTF8&spc=MTo0NDAyNDI0NDgxMjE4MDMyOjE2ODUwMjg5MDI6c3BfYXRmOjIwMTE3Nzk1ODcxNjk4OjowOjo&url=%2FMokobara-Transit-Backpack-Laptop-Sunray%2Fdp%2FB09V7R98XC%2Fref%3Dsr_1_1_sspa%3Fcrid%3D2M096C61O4MLT%26keywords%3Dbags%26qid%3D1685028902%26sprefix%3Dba%252Caps%252C283%26sr%3D8-1-spons%26sp_csd%3Dd2lkZ2V0TmFtZT1zcF9hdGY%26psc%3D1'"
      ]
     },
     "execution_count": 67,
     "metadata": {},
     "output_type": "execute_result"
    }
   ],
   "source": [
    "links = soup.find('a', class_='a-link-normal s-underline-text s-underline-link-text s-link-style a-text-normal').get(\"href\")\n",
    "links"
   ]
  },
  {
   "cell_type": "code",
   "execution_count": 69,
   "id": "50706d48",
   "metadata": {},
   "outputs": [
    {
     "data": {
      "text/plain": [
       "'https://amazon.in/sspa/click?ie=UTF8&spc=MTo0NDAyNDI0NDgxMjE4MDMyOjE2ODUwMjg5MDI6c3BfYXRmOjIwMTE3Nzk1ODcxNjk4OjowOjo&url=%2FMokobara-Transit-Backpack-Laptop-Sunray%2Fdp%2FB09V7R98XC%2Fref%3Dsr_1_1_sspa%3Fcrid%3D2M096C61O4MLT%26keywords%3Dbags%26qid%3D1685028902%26sprefix%3Dba%252Caps%252C283%26sr%3D8-1-spons%26sp_csd%3Dd2lkZ2V0TmFtZT1zcF9hdGY%26psc%3D1'"
      ]
     },
     "execution_count": 69,
     "metadata": {},
     "output_type": "execute_result"
    }
   ],
   "source": [
    "url = \"https://amazon.in\" + links\n",
    "url"
   ]
  },
  {
   "cell_type": "code",
   "execution_count": 66,
   "id": "e017c29a",
   "metadata": {
    "scrolled": true
   },
   "outputs": [
    {
     "data": {
      "text/plain": [
       "'Best in class curtains to elevate your space'"
      ]
     },
     "execution_count": 66,
     "metadata": {},
     "output_type": "execute_result"
    }
   ],
   "source": [
    "name = soup.find(class_='a-size-medium')\n",
    "name.text"
   ]
  },
  {
   "cell_type": "code",
   "execution_count": 49,
   "id": "136405e5",
   "metadata": {},
   "outputs": [
    {
     "data": {
      "text/plain": [
       "'1,759.'"
      ]
     },
     "execution_count": 49,
     "metadata": {},
     "output_type": "execute_result"
    }
   ],
   "source": [
    "price = soup.find(class_='a-price-whole')\n",
    "price.text"
   ]
  },
  {
   "cell_type": "code",
   "execution_count": 50,
   "id": "66667e65",
   "metadata": {},
   "outputs": [
    {
     "data": {
      "text/plain": [
       "'4.5 out of 5 stars'"
      ]
     },
     "execution_count": 50,
     "metadata": {},
     "output_type": "execute_result"
    }
   ],
   "source": [
    "rating = soup.find(class_='a-icon-alt')\n",
    "rating.text"
   ]
  },
  {
   "cell_type": "code",
   "execution_count": 51,
   "id": "12d515bf",
   "metadata": {},
   "outputs": [
    {
     "data": {
      "text/plain": [
       "'590'"
      ]
     },
     "execution_count": 51,
     "metadata": {},
     "output_type": "execute_result"
    }
   ],
   "source": [
    "reviews = soup.find(class_='a-size-base s-underline-text')\n",
    "reviews.text "
   ]
  },
  {
   "cell_type": "code",
   "execution_count": 52,
   "id": "289c2b5e",
   "metadata": {},
   "outputs": [
    {
     "data": {
      "text/plain": [
       "23"
      ]
     },
     "execution_count": 52,
     "metadata": {},
     "output_type": "execute_result"
    }
   ],
   "source": [
    "len(soup.find_all(class_='a-size-medium'))"
   ]
  },
  {
   "cell_type": "code",
   "execution_count": 80,
   "id": "5599c1b5",
   "metadata": {},
   "outputs": [
    {
     "ename": "SyntaxError",
     "evalue": "unexpected EOF while parsing (98835135.py, line 16)",
     "output_type": "error",
     "traceback": [
      "\u001b[1;36m  Input \u001b[1;32mIn [80]\u001b[1;36m\u001b[0m\n\u001b[1;33m    \u001b[0m\n\u001b[1;37m    ^\u001b[0m\n\u001b[1;31mSyntaxError\u001b[0m\u001b[1;31m:\u001b[0m unexpected EOF while parsing\n"
     ]
    }
   ],
   "source": [
    "name=[]\n",
    "rating=[]\n",
    "reviews=[]\n",
    "price=[]\n",
    "url=[]\n",
    "\n",
    "for i in bags:\n",
    "    \n",
    "    name.append(i.find(class_='a-size-medium'))\n",
    "    price.append(i.find(class_='a-price-whole'))\n",
    "    rating.append(i.find(class_='a-icon-alt'))\n",
    "    reviews.append(i.find(class_='a-size-base s-underline-text'))\n",
    "    url.append(\"https://amazon.in\" + i.find('a', class_='a-link-normal s-underline-text s-underline-link-text s-link-style a-text-normal').get(\"href\")\n",
    "  \n",
    "df=pd.DataFrame({'name':name,\n",
    "    'rating':rating,\n",
    "    'reviews':reviews,\n",
    "    'price':price,\n",
    "    'URL':url,\n",
    "      })\n",
    "  \n",
    " \n"
   ]
  },
  {
   "cell_type": "code",
   "execution_count": 94,
   "id": "6be7c21d",
   "metadata": {},
   "outputs": [
    {
     "ename": "SyntaxError",
     "evalue": "invalid syntax (3329772683.py, line 36)",
     "output_type": "error",
     "traceback": [
      "\u001b[1;36m  Input \u001b[1;32mIn [94]\u001b[1;36m\u001b[0m\n\u001b[1;33m    except:\u001b[0m\n\u001b[1;37m    ^\u001b[0m\n\u001b[1;31mSyntaxError\u001b[0m\u001b[1;31m:\u001b[0m invalid syntax\n"
     ]
    }
   ],
   "source": [
    "final=pd.DataFrame()\n",
    "for j in range(1,11):\n",
    "    webpage=requests.get('https://www.amazon.in/s?k=bags&crid=2M096C61O4MLT&qid=1653308124&sprefix=ba%2Caps%2C283&ref=sr_pg_{}'.format(j)).text\n",
    "    soup=BeautifulSoup(webpage,'lxml')\n",
    "    bags=soup.find_all('div',class_='sg-col-inner')\n",
    "    name=[]\n",
    "    rating=[]\n",
    "    reviews=[]\n",
    "    price=[]\n",
    "    url=[]\n",
    "\n",
    "    for i in bags:\n",
    "\n",
    "        try:\n",
    "            name.append(i.find(class_='a-size-medium').text)\n",
    "        except:\n",
    "            name.append(np.nan)\n",
    "\n",
    "        try:\n",
    "            rating.append(i.find(class_='a-icon-alt').text.strip())\n",
    "        except:\n",
    "            rating.append(np.nan)\n",
    "\n",
    "        try:\n",
    "            reviews.append(i.find(class_='a-size-base s-underline-text').text.strip())\n",
    "        except:\n",
    "            reviews.append(np.nan)\n",
    "\n",
    "        try:\n",
    "            price.append(i.find(class_='a-price-whole').text.strip())\n",
    "        except:\n",
    "            price.append(np.nan)\n",
    "            \n",
    "        try:\n",
    "            url.append(\"https://amazon.in\" + i.find('a', class_='a-link-normal').get(\"href\")\n",
    "        except:\n",
    "            url.append(np.nan)\n",
    "\n",
    "    \n",
    "  \n",
    "    df=pd.DataFrame({'name':name,\n",
    "        'rating':rating,\n",
    "        'reviews':reviews,\n",
    "        'price':price,\n",
    "        'URL':url,\n",
    "          })\n",
    "  \n",
    "      final=final.append(df,ignore_index=True)\n",
    "\n"
   ]
  },
  {
   "cell_type": "code",
   "execution_count": 93,
   "id": "7a085122",
   "metadata": {},
   "outputs": [],
   "source": [
    "import csv\n",
    "header = ['name', 'Review','price', 'rating', 'url']\n",
    "data = [name,reviews,price,rating,url]\n",
    "\n",
    "with open('Amazondataset.csv','w',newline='',encoding='UTF8') as f:\n",
    "    writer = csv.writer(f)\n",
    "    writer.writerow(header)\n",
    "    writer.writerow(data)\n"
   ]
  },
  {
   "cell_type": "code",
   "execution_count": null,
   "id": "8e7c7278",
   "metadata": {},
   "outputs": [],
   "source": []
  }
 ],
 "metadata": {
  "kernelspec": {
   "display_name": "Python 3 (ipykernel)",
   "language": "python",
   "name": "python3"
  },
  "language_info": {
   "codemirror_mode": {
    "name": "ipython",
    "version": 3
   },
   "file_extension": ".py",
   "mimetype": "text/x-python",
   "name": "python",
   "nbconvert_exporter": "python",
   "pygments_lexer": "ipython3",
   "version": "3.9.12"
  }
 },
 "nbformat": 4,
 "nbformat_minor": 5
}
